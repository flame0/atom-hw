{
 "cells": [
  {
   "cell_type": "code",
   "execution_count": 5,
   "metadata": {
    "collapsed": true
   },
   "outputs": [],
   "source": [
    "from datetime import date, datetime, timedelta\n",
    "\n",
    "class Task:\n",
    "    states = frozenset([\"in_progress\", \"ready\"])\n",
    "\n",
    "    def __init__(self, title, estimate, state=\"in_progress\"):\n",
    "        self.title = title\n",
    "        self.estimate = estimate\n",
    "        if state in self.states:\n",
    "            self.state = state\n",
    "        else:\n",
    "            raise ValueError('Unexpected state')\n",
    "\n",
    "    def __repr__(self):\n",
    "        return \"<{}:{} - {}>\".format(self.title, self.state, self.estimate)\n",
    "\n",
    "    def _remaining(self):\n",
    "        \"\"\"Remains until expiration of the deadline\"\"\"\n",
    "        if self.state == \"in_progress\":\n",
    "            return self.estimate - date.today()\n",
    "        else:\n",
    "            return timedelta(0)\n",
    "\n",
    "    def _is_failed(self):\n",
    "        \"\"\"return true if task is failed\"\"\"\n",
    "        if self.state == \"in_progress\" and self.estimate < date.today():\n",
    "            return True\n",
    "        else:\n",
    "            return False\n",
    "\n",
    "    def ready(self):\n",
    "        \"\"\"change state to ready\"\"\"\n",
    "        self.state = \"ready\"\n",
    "\n",
    "    remaining = property(_remaining)\n",
    "    is_failed = property(_is_failed)\n"
   ]
  },
  {
   "cell_type": "code",
   "execution_count": 6,
   "metadata": {
    "collapsed": true
   },
   "outputs": [],
   "source": [
    "class Roadmap:\n",
    "    def __init__(self, tasks=[]):\n",
    "        self.tasks = tasks\n",
    "\n",
    "    def filter(self, state):\n",
    "        return [task for task in tasks if task.state == state]\n",
    "\n",
    "    def _today(self):\n",
    "        \"\"\" return list of tasks where task estimate == today\"\"\"\n",
    "        return [task for task in tasks if task.estimate == date.today()]\n",
    "    today = property(_today)\n"
   ]
  },
  {
   "cell_type": "code",
   "execution_count": 7,
   "metadata": {
    "collapsed": false
   },
   "outputs": [],
   "source": [
    "task = Task(\"Task#1\",date(2017,3,20))"
   ]
  },
  {
   "cell_type": "code",
   "execution_count": 8,
   "metadata": {
    "collapsed": false
   },
   "outputs": [
    {
     "data": {
      "text/plain": [
       "datetime.timedelta(-2)"
      ]
     },
     "execution_count": 8,
     "metadata": {},
     "output_type": "execute_result"
    }
   ],
   "source": [
    "task.remaining"
   ]
  },
  {
   "cell_type": "code",
   "execution_count": 9,
   "metadata": {
    "collapsed": false
   },
   "outputs": [
    {
     "data": {
      "text/plain": [
       "True"
      ]
     },
     "execution_count": 9,
     "metadata": {},
     "output_type": "execute_result"
    }
   ],
   "source": [
    "task.is_failed"
   ]
  },
  {
   "cell_type": "code",
   "execution_count": 41,
   "metadata": {
    "collapsed": true
   },
   "outputs": [],
   "source": [
    "task.ready()"
   ]
  },
  {
   "cell_type": "code",
   "execution_count": 42,
   "metadata": {
    "collapsed": false
   },
   "outputs": [
    {
     "data": {
      "text/plain": [
       "'ready'"
      ]
     },
     "execution_count": 42,
     "metadata": {},
     "output_type": "execute_result"
    }
   ],
   "source": [
    "task.state"
   ]
  },
  {
   "cell_type": "code",
   "execution_count": 43,
   "metadata": {
    "collapsed": true
   },
   "outputs": [],
   "source": [
    "tasks =[]\n",
    "for i in range(4):\n",
    "    tasks.append(Task(\"Task1#{}\".format(i), date.today() - timedelta(i), \"ready\"))\n",
    "    \n",
    "for i in range(4):\n",
    "    tasks.append(Task(\"Task2#{}\".format(i), date.today()))\n",
    "\n",
    "for i in range(4):\n",
    "    tasks.append(Task(\"Task3#{}\".format(i), date.today() + timedelta(i)))"
   ]
  },
  {
   "cell_type": "code",
   "execution_count": 44,
   "metadata": {
    "collapsed": false
   },
   "outputs": [],
   "source": [
    "road = Roadmap(tasks)"
   ]
  },
  {
   "cell_type": "code",
   "execution_count": 45,
   "metadata": {
    "collapsed": false
   },
   "outputs": [
    {
     "data": {
      "text/plain": [
       "[<Task1#0:ready - 2017-03-19>,\n",
       " <Task2#0:in_progress - 2017-03-19>,\n",
       " <Task2#1:in_progress - 2017-03-19>,\n",
       " <Task2#2:in_progress - 2017-03-19>,\n",
       " <Task2#3:in_progress - 2017-03-19>,\n",
       " <Task3#0:in_progress - 2017-03-19>]"
      ]
     },
     "execution_count": 45,
     "metadata": {},
     "output_type": "execute_result"
    }
   ],
   "source": [
    "road.today"
   ]
  },
  {
   "cell_type": "code",
   "execution_count": 47,
   "metadata": {
    "collapsed": false
   },
   "outputs": [
    {
     "data": {
      "text/plain": [
       "[<Task1#0:ready - 2017-03-19>,\n",
       " <Task1#1:ready - 2017-03-18>,\n",
       " <Task1#2:ready - 2017-03-17>,\n",
       " <Task1#3:ready - 2017-03-16>]"
      ]
     },
     "execution_count": 47,
     "metadata": {},
     "output_type": "execute_result"
    }
   ],
   "source": [
    "road.filter(\"ready\")"
   ]
  },
  {
   "cell_type": "code",
   "execution_count": 48,
   "metadata": {
    "collapsed": false
   },
   "outputs": [
    {
     "data": {
      "text/plain": [
       "[<Task2#0:in_progress - 2017-03-19>,\n",
       " <Task2#1:in_progress - 2017-03-19>,\n",
       " <Task2#2:in_progress - 2017-03-19>,\n",
       " <Task2#3:in_progress - 2017-03-19>,\n",
       " <Task3#0:in_progress - 2017-03-19>,\n",
       " <Task3#1:in_progress - 2017-03-20>,\n",
       " <Task3#2:in_progress - 2017-03-21>,\n",
       " <Task3#3:in_progress - 2017-03-22>]"
      ]
     },
     "execution_count": 48,
     "metadata": {},
     "output_type": "execute_result"
    }
   ],
   "source": [
    "road.filter(\"in_progress\")"
   ]
  },
  {
   "cell_type": "code",
   "execution_count": null,
   "metadata": {
    "collapsed": true
   },
   "outputs": [],
   "source": []
  }
 ],
 "metadata": {
  "kernelspec": {
   "display_name": "Python 3",
   "language": "python",
   "name": "python3"
  },
  "language_info": {
   "codemirror_mode": {
    "name": "ipython",
    "version": 3
   },
   "file_extension": ".py",
   "mimetype": "text/x-python",
   "name": "python",
   "nbconvert_exporter": "python",
   "pygments_lexer": "ipython3",
   "version": "3.6.0"
  }
 },
 "nbformat": 4,
 "nbformat_minor": 2
}
